{
 "cells": [
  {
   "cell_type": "code",
   "execution_count": 174,
   "metadata": {},
   "outputs": [],
   "source": [
    "import tweepy\n",
    "import pandas as pd\n",
    "import configparser\n",
    "import re\n",
    "from textblob import TextBlob\n",
    "from wordcloud import WordCloud"
   ]
  },
  {
   "cell_type": "code",
   "execution_count": 175,
   "metadata": {},
   "outputs": [
    {
     "data": {
      "text/plain": [
       "['config.ini']"
      ]
     },
     "execution_count": 175,
     "metadata": {},
     "output_type": "execute_result"
    }
   ],
   "source": [
    "config = configparser.ConfigParser()\n",
    "config.read(\"config.ini\")"
   ]
  },
  {
   "cell_type": "code",
   "execution_count": 176,
   "metadata": {},
   "outputs": [],
   "source": [
    "api_key = config[\"twitter\"][\"api_key\"]\n",
    "api_key_secret = config[\"twitter\"][\"api_key_secret\"]\n",
    "access_token = config[\"twitter\"][\"access_token\"]\n",
    "access_token_secret = config[\"twitter\"][\"access_token_secret\"]"
   ]
  },
  {
   "cell_type": "code",
   "execution_count": 177,
   "metadata": {},
   "outputs": [],
   "source": [
    "auth = tweepy.OAuthHandler(api_key, api_key_secret)\n",
    "auth.set_access_token(access_token, access_token_secret)\n",
    "api = tweepy.API(auth)"
   ]
  },
  {
   "cell_type": "code",
   "execution_count": 178,
   "metadata": {},
   "outputs": [],
   "source": [
    "#posts = tweepy.Cursor(api.user_timeline, screen_name=\"ArvindKejriwal\", count = 200, tweet_mode=\"extended\").items((300))"
   ]
  },
  {
   "cell_type": "code",
   "execution_count": 179,
   "metadata": {},
   "outputs": [],
   "source": [
    "posts = tweepy.Cursor(api.search_tweets, q=\"#Python\", count = 200, lang =\"en\", tweet_mode=\"extended\").items((100))"
   ]
  },
  {
   "cell_type": "code",
   "execution_count": 180,
   "metadata": {},
   "outputs": [],
   "source": [
    "df = pd.DataFrame([tweet.full_text for tweet in posts], columns=['Tweets'])"
   ]
  },
  {
   "cell_type": "code",
   "execution_count": 181,
   "metadata": {},
   "outputs": [],
   "source": [
    "def cleanTxt(text):\n",
    " text = re.sub('@[A-Za-z0–9]+', '', text) #Removing @mentions\n",
    " text = re.sub('#', '', text) # Removing '#' hash tag\n",
    " text = re.sub('RT[\\s]+', '', text) # Removing RT\n",
    " text = re.sub('https?:\\/\\/\\S+', '', text)\n",
    " text = re.sub(\"\\n\",\"\",text) # Removing hyperlink\n",
    " \n",
    " return text\n",
    "\n",
    "\n",
    "# Clean the tweets\n",
    "df['Tweets'] = df['Tweets'].apply(cleanTxt)"
   ]
  },
  {
   "cell_type": "code",
   "execution_count": 182,
   "metadata": {},
   "outputs": [
    {
     "data": {
      "text/html": [
       "<div>\n",
       "<style scoped>\n",
       "    .dataframe tbody tr th:only-of-type {\n",
       "        vertical-align: middle;\n",
       "    }\n",
       "\n",
       "    .dataframe tbody tr th {\n",
       "        vertical-align: top;\n",
       "    }\n",
       "\n",
       "    .dataframe thead th {\n",
       "        text-align: right;\n",
       "    }\n",
       "</style>\n",
       "<table border=\"1\" class=\"dataframe\">\n",
       "  <thead>\n",
       "    <tr style=\"text-align: right;\">\n",
       "      <th></th>\n",
       "      <th>Tweets</th>\n",
       "    </tr>\n",
       "  </thead>\n",
       "  <tbody>\n",
       "    <tr>\n",
       "      <th>0</th>\n",
       "      <td>3: Visualizing the Biggest Gaming Company Acqu...</td>\n",
       "    </tr>\n",
       "    <tr>\n",
       "      <th>1</th>\n",
       "      <td>_ali_jk: Create fantastic thumbnails for youtu...</td>\n",
       "    </tr>\n",
       "    <tr>\n",
       "      <th>2</th>\n",
       "      <td>_NS: Subscribe Today - DevOps EngineeringDevOp...</td>\n",
       "    </tr>\n",
       "    <tr>\n",
       "      <th>3</th>\n",
       "      <td>:  UV Light Simulator:UV Light Simulator produ...</td>\n",
       "    </tr>\n",
       "    <tr>\n",
       "      <th>4</th>\n",
       "      <td>: HEY DEVS, TAKE THIS SURVEY AND WIN $1000Prog...</td>\n",
       "    </tr>\n",
       "    <tr>\n",
       "      <th>...</th>\n",
       "      <td>...</td>\n",
       "    </tr>\n",
       "    <tr>\n",
       "      <th>95</th>\n",
       "      <td>: NEED a JOB?Sign up now NO MIDDLEMAN. FREE OF...</td>\n",
       "    </tr>\n",
       "    <tr>\n",
       "      <th>96</th>\n",
       "      <td>_NS: Subscribe Today - DevOps EngineeringDevOp...</td>\n",
       "    </tr>\n",
       "    <tr>\n",
       "      <th>97</th>\n",
       "      <td>_NS: Subscribe Today - DevOps EngineeringDevOp...</td>\n",
       "    </tr>\n",
       "    <tr>\n",
       "      <th>98</th>\n",
       "      <td>_NS: Subscribe Today - DevOps EngineeringDevOp...</td>\n",
       "    </tr>\n",
       "    <tr>\n",
       "      <th>99</th>\n",
       "      <td>_NS: Subscribe Today - DevOps EngineeringDevOp...</td>\n",
       "    </tr>\n",
       "  </tbody>\n",
       "</table>\n",
       "<p>100 rows × 1 columns</p>\n",
       "</div>"
      ],
      "text/plain": [
       "                                               Tweets\n",
       "0   3: Visualizing the Biggest Gaming Company Acqu...\n",
       "1   _ali_jk: Create fantastic thumbnails for youtu...\n",
       "2   _NS: Subscribe Today - DevOps EngineeringDevOp...\n",
       "3   :  UV Light Simulator:UV Light Simulator produ...\n",
       "4   : HEY DEVS, TAKE THIS SURVEY AND WIN $1000Prog...\n",
       "..                                                ...\n",
       "95  : NEED a JOB?Sign up now NO MIDDLEMAN. FREE OF...\n",
       "96  _NS: Subscribe Today - DevOps EngineeringDevOp...\n",
       "97  _NS: Subscribe Today - DevOps EngineeringDevOp...\n",
       "98  _NS: Subscribe Today - DevOps EngineeringDevOp...\n",
       "99  _NS: Subscribe Today - DevOps EngineeringDevOp...\n",
       "\n",
       "[100 rows x 1 columns]"
      ]
     },
     "execution_count": 182,
     "metadata": {},
     "output_type": "execute_result"
    }
   ],
   "source": [
    "df"
   ]
  },
  {
   "cell_type": "code",
   "execution_count": 183,
   "metadata": {},
   "outputs": [
    {
     "data": {
      "text/html": [
       "<div>\n",
       "<style scoped>\n",
       "    .dataframe tbody tr th:only-of-type {\n",
       "        vertical-align: middle;\n",
       "    }\n",
       "\n",
       "    .dataframe tbody tr th {\n",
       "        vertical-align: top;\n",
       "    }\n",
       "\n",
       "    .dataframe thead th {\n",
       "        text-align: right;\n",
       "    }\n",
       "</style>\n",
       "<table border=\"1\" class=\"dataframe\">\n",
       "  <thead>\n",
       "    <tr style=\"text-align: right;\">\n",
       "      <th></th>\n",
       "      <th>Tweets</th>\n",
       "      <th>Subjectivity</th>\n",
       "      <th>Polarity</th>\n",
       "    </tr>\n",
       "  </thead>\n",
       "  <tbody>\n",
       "    <tr>\n",
       "      <th>0</th>\n",
       "      <td>3: Visualizing the Biggest Gaming Company Acqu...</td>\n",
       "      <td>0.00</td>\n",
       "      <td>0.0</td>\n",
       "    </tr>\n",
       "    <tr>\n",
       "      <th>1</th>\n",
       "      <td>_ali_jk: Create fantastic thumbnails for youtu...</td>\n",
       "      <td>0.90</td>\n",
       "      <td>0.4</td>\n",
       "    </tr>\n",
       "    <tr>\n",
       "      <th>2</th>\n",
       "      <td>_NS: Subscribe Today - DevOps EngineeringDevOp...</td>\n",
       "      <td>0.00</td>\n",
       "      <td>0.0</td>\n",
       "    </tr>\n",
       "    <tr>\n",
       "      <th>3</th>\n",
       "      <td>:  UV Light Simulator:UV Light Simulator produ...</td>\n",
       "      <td>0.54</td>\n",
       "      <td>0.3</td>\n",
       "    </tr>\n",
       "    <tr>\n",
       "      <th>4</th>\n",
       "      <td>: HEY DEVS, TAKE THIS SURVEY AND WIN $1000Prog...</td>\n",
       "      <td>0.40</td>\n",
       "      <td>0.8</td>\n",
       "    </tr>\n",
       "    <tr>\n",
       "      <th>...</th>\n",
       "      <td>...</td>\n",
       "      <td>...</td>\n",
       "      <td>...</td>\n",
       "    </tr>\n",
       "    <tr>\n",
       "      <th>95</th>\n",
       "      <td>: NEED a JOB?Sign up now NO MIDDLEMAN. FREE OF...</td>\n",
       "      <td>0.80</td>\n",
       "      <td>0.4</td>\n",
       "    </tr>\n",
       "    <tr>\n",
       "      <th>96</th>\n",
       "      <td>_NS: Subscribe Today - DevOps EngineeringDevOp...</td>\n",
       "      <td>0.00</td>\n",
       "      <td>0.0</td>\n",
       "    </tr>\n",
       "    <tr>\n",
       "      <th>97</th>\n",
       "      <td>_NS: Subscribe Today - DevOps EngineeringDevOp...</td>\n",
       "      <td>0.00</td>\n",
       "      <td>0.0</td>\n",
       "    </tr>\n",
       "    <tr>\n",
       "      <th>98</th>\n",
       "      <td>_NS: Subscribe Today - DevOps EngineeringDevOp...</td>\n",
       "      <td>0.00</td>\n",
       "      <td>0.0</td>\n",
       "    </tr>\n",
       "    <tr>\n",
       "      <th>99</th>\n",
       "      <td>_NS: Subscribe Today - DevOps EngineeringDevOp...</td>\n",
       "      <td>0.00</td>\n",
       "      <td>0.0</td>\n",
       "    </tr>\n",
       "  </tbody>\n",
       "</table>\n",
       "<p>100 rows × 3 columns</p>\n",
       "</div>"
      ],
      "text/plain": [
       "                                               Tweets  Subjectivity  Polarity\n",
       "0   3: Visualizing the Biggest Gaming Company Acqu...          0.00       0.0\n",
       "1   _ali_jk: Create fantastic thumbnails for youtu...          0.90       0.4\n",
       "2   _NS: Subscribe Today - DevOps EngineeringDevOp...          0.00       0.0\n",
       "3   :  UV Light Simulator:UV Light Simulator produ...          0.54       0.3\n",
       "4   : HEY DEVS, TAKE THIS SURVEY AND WIN $1000Prog...          0.40       0.8\n",
       "..                                                ...           ...       ...\n",
       "95  : NEED a JOB?Sign up now NO MIDDLEMAN. FREE OF...          0.80       0.4\n",
       "96  _NS: Subscribe Today - DevOps EngineeringDevOp...          0.00       0.0\n",
       "97  _NS: Subscribe Today - DevOps EngineeringDevOp...          0.00       0.0\n",
       "98  _NS: Subscribe Today - DevOps EngineeringDevOp...          0.00       0.0\n",
       "99  _NS: Subscribe Today - DevOps EngineeringDevOp...          0.00       0.0\n",
       "\n",
       "[100 rows x 3 columns]"
      ]
     },
     "execution_count": 183,
     "metadata": {},
     "output_type": "execute_result"
    }
   ],
   "source": [
    "def getSubjectivity(text):\n",
    "   return TextBlob(text).sentiment.subjectivity\n",
    "\n",
    "# Create a function to get the polarity\n",
    "def getPolarity(text):\n",
    "   return  TextBlob(text).sentiment.polarity\n",
    "\n",
    "\n",
    "# Create two new columns 'Subjectivity' & 'Polarity'\n",
    "df['Subjectivity'] = df['Tweets'].apply(getSubjectivity)\n",
    "df['Polarity'] = df['Tweets'].apply(getPolarity)\n",
    "\n",
    "# Show the new dataframe with columns 'Subjectivity' & 'Polarity'\n",
    "df"
   ]
  }
 ],
 "metadata": {
  "interpreter": {
   "hash": "78469b5f2af65e8112f498df346851dfdfbfa297c3a0963f8d30f1e38043cc39"
  },
  "kernelspec": {
   "display_name": "Python 3.8.12 ('twitter_sentimental_analysis')",
   "language": "python",
   "name": "python3"
  },
  "language_info": {
   "codemirror_mode": {
    "name": "ipython",
    "version": 3
   },
   "file_extension": ".py",
   "mimetype": "text/x-python",
   "name": "python",
   "nbconvert_exporter": "python",
   "pygments_lexer": "ipython3",
   "version": "3.8.12"
  },
  "orig_nbformat": 4
 },
 "nbformat": 4,
 "nbformat_minor": 2
}
