{
 "cells": [
  {
   "cell_type": "code",
   "execution_count": null,
   "metadata": {},
   "outputs": [],
   "source": []
  }
 ],
 "metadata": {
  "interpreter": {
   "hash": "78469b5f2af65e8112f498df346851dfdfbfa297c3a0963f8d30f1e38043cc39"
  },
  "kernelspec": {
   "display_name": "Python 3.8.12 ('twitter_sentimental_analysis')",
   "language": "python",
   "name": "python3"
  },
  "language_info": {
   "name": "python",
   "version": "3.8.12"
  },
  "orig_nbformat": 4
 },
 "nbformat": 4,
 "nbformat_minor": 2
}
